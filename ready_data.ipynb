{
 "cells": [
  {
   "cell_type": "code",
   "execution_count": 20,
   "metadata": {},
   "outputs": [
    {
     "data": {
      "text/plain": [
       "{'bbscount': 3,\n",
       " 'categorycd': '0001,0039',\n",
       " 'categorycd1': '0001',\n",
       " 'categorycd2': '0039',\n",
       " 'categoryname': 'パソコン周辺機器,PC用テレビチューナー',\n",
       " 'contenttype': 0,\n",
       " 'corename': 'kp_s01',\n",
       " 'entrydate': '2006-12-21T00:00:00Z',\n",
       " 'imageurl': 'http://img.kakaku.com/images/productimage/m/05552110556.jpg',\n",
       " 'imageurlspapp': 'http://img.kakaku.com/images/productimage/m/05552110556.jpg ',\n",
       " 'maincategorycd': '0001,0039',\n",
       " 'mainmallcategorycd': '2,0556',\n",
       " 'makercd': 516,\n",
       " 'makername': 'クイックサン',\n",
       " 'mallcategorycd': '2,0556',\n",
       " 'mallcd': '9999',\n",
       " 'mallproductcd': '05552110556',\n",
       " 'mobileimageurl': 'http://img.kakaku.com/images/mobile/icv/m_05552110556.jpg',\n",
       " 'mobileproducturl': 'http://m.kakaku.com/itemview/itemview.asp?prd=05552110556',\n",
       " 'multipriority': 0,\n",
       " 'multipvrank': 99999,\n",
       " 'pankuzu': 'パソコン > PC用テレビチューナー',\n",
       " 'pickupbbstabno': '1',\n",
       " 'prdcomment': 'TVチューナー：ワンセグ タイプ：外付 インターフェイス：USB2.0',\n",
       " 'productname': 'QOT-W100',\n",
       " 'producturl': 'http://kakaku.com/item/05552110556/',\n",
       " 'pvrank': 99999,\n",
       " 'saledate': '2006/12/23',\n",
       " 'saledatedisplay': '2006年12月23日',\n",
       " 'usedflag': 0}"
      ]
     },
     "execution_count": 20,
     "metadata": {},
     "output_type": "execute_result"
    }
   ],
   "source": [
    "import json\n",
    "f = open('data/kakaku_product_info/result_00010039.txt', 'r')\n",
    "json_data = json.load(f)\n",
    "json_data['response']['docs'][1]"
   ]
  },
  {
   "cell_type": "code",
   "execution_count": 10,
   "metadata": {},
   "outputs": [
    {
     "name": "stdout",
     "output_type": "stream",
     "text": [
      "    2299\r\n"
     ]
    }
   ],
   "source": [
    "!ls -1 data/kakaku_product_info/ | wc -l"
   ]
  },
  {
   "cell_type": "code",
   "execution_count": 11,
   "metadata": {},
   "outputs": [
    {
     "name": "stdout",
     "output_type": "stream",
     "text": [
      " 1949862\r\n"
     ]
    }
   ],
   "source": [
    "!grep \"\\\"productname\\\":\" data/kakaku_product_info/result_* | wc -l"
   ]
  }
 ],
 "metadata": {
  "kernelspec": {
   "display_name": "Python 3",
   "language": "python",
   "name": "python3"
  },
  "language_info": {
   "codemirror_mode": {
    "name": "ipython",
    "version": 3
   },
   "file_extension": ".py",
   "mimetype": "text/x-python",
   "name": "python",
   "nbconvert_exporter": "python",
   "pygments_lexer": "ipython3",
   "version": "3.5.0"
  }
 },
 "nbformat": 4,
 "nbformat_minor": 2
}
